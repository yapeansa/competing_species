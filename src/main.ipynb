{
 "cells": [
  {
   "cell_type": "code",
   "execution_count": 19,
   "metadata": {},
   "outputs": [],
   "source": [
    "import numpy as np\n",
    "import matplotlib\n",
    "import matplotlib.pyplot as plt\n",
    "matplotlib.use('TkAgg')"
   ]
  },
  {
   "cell_type": "code",
   "execution_count": 20,
   "metadata": {},
   "outputs": [],
   "source": [
    "fixed_points = np.array([[0., 0.], [0., 2.], [1.5, 0.]])"
   ]
  },
  {
   "cell_type": "code",
   "execution_count": 21,
   "metadata": {},
   "outputs": [],
   "source": [
    "x = np.linspace(0, 4, 10)\n",
    "y = np.linspace(0, 4, 10)\n",
    "X, Y = np.meshgrid(x, y)"
   ]
  },
  {
   "cell_type": "code",
   "execution_count": 22,
   "metadata": {},
   "outputs": [],
   "source": [
    "Xdot = X * (3 - 2 * X - 2 * Y)\n",
    "Ydot = Y * (2 - X - Y)"
   ]
  },
  {
   "cell_type": "code",
   "execution_count": 23,
   "metadata": {},
   "outputs": [],
   "source": [
    "# nullclines\n",
    "x_nullcline1 = np.linspace(0, 4, 10)  # x-nullcline: y = 1.5 - x\n",
    "y_nullcline1 = np.linspace(0, 4, 10)  # y-nullcline: y = 2 - x"
   ]
  },
  {
   "cell_type": "code",
   "execution_count": 24,
   "metadata": {},
   "outputs": [
    {
     "data": {
      "text/plain": [
       "<matplotlib.collections.PathCollection at 0x783bf5bee6f0>"
      ]
     },
     "execution_count": 24,
     "metadata": {},
     "output_type": "execute_result"
    }
   ],
   "source": [
    "fig, ax = plt.subplots()\n",
    "ax.streamplot(X, Y, Xdot, Ydot, color=\"blue\", density=1.2)\n",
    "ax.scatter(*fixed_points.T, color=\"red\")"
   ]
  },
  {
   "cell_type": "code",
   "execution_count": 25,
   "metadata": {},
   "outputs": [
    {
     "data": {
      "text/plain": [
       "<matplotlib.lines.Line2D at 0x783bf5c04800>"
      ]
     },
     "execution_count": 25,
     "metadata": {},
     "output_type": "execute_result"
    }
   ],
   "source": [
    "# Adicionando nullclines\n",
    "ax.plot(x_nullcline1, 1.5 - x_nullcline1, \"orange\", label=\"x-nullcline\")\n",
    "ax.plot(x_nullcline1, 2 - x_nullcline1, \"green\", label=\"y-nullcline\")\n",
    "ax.axhline(0, color=\"g\", linestyle=\"--\", alpha=0.7)  # y = 0 nullcline\n",
    "ax.axvline(0, color=\"g\", linestyle=\"--\", alpha=0.7)  # x = 0 nullcline"
   ]
  },
  {
   "cell_type": "code",
   "execution_count": 26,
   "metadata": {},
   "outputs": [],
   "source": [
    "# Labels  legenda\n",
    "ax.set_xlim(-0.125, 4)\n",
    "ax.set_ylim(-0.125, 4)\n",
    "ax.set_xlabel(\"x\")\n",
    "ax.set_ylabel(\"y\")\n",
    "ax.legend(loc=\"upper right\")\n",
    "# plt.title(\"Campo de direções e Nullclines\")\n",
    "fig.show()"
   ]
  },
  {
   "cell_type": "code",
   "execution_count": 27,
   "metadata": {},
   "outputs": [],
   "source": [
    "fig.savefig(\"retrato_de_fase.png\")"
   ]
  }
 ],
 "metadata": {
  "kernelspec": {
   "display_name": "Python 3",
   "language": "python",
   "name": "python3"
  },
  "language_info": {
   "codemirror_mode": {
    "name": "ipython",
    "version": 3
   },
   "file_extension": ".py",
   "mimetype": "text/x-python",
   "name": "python",
   "nbconvert_exporter": "python",
   "pygments_lexer": "ipython3",
   "version": "3.12.3"
  }
 },
 "nbformat": 4,
 "nbformat_minor": 2
}
